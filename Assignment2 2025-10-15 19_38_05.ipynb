{
 "cells": [
  {
   "cell_type": "code",
   "execution_count": 0,
   "metadata": {
    "application/vnd.databricks.v1+cell": {
     "cellMetadata": {
      "byteLimit": 2048000,
      "rowLimit": 10000
     },
     "inputWidgets": {},
     "nuid": "5799862f-c2cd-457d-8368-0388c66be592",
     "showTitle": false,
     "tableResultSettingsMap": {},
     "title": ""
    }
   },
   "outputs": [],
   "source": [
    "#Problem 1(Create a numpy array with the elements \"1, 2, 3, 5, 0\", print the array and test if all of its elements are non-zero.)\n",
    "\n",
    "import numpy as np\n",
    "\n",
    "array = np.array([1, 2, 3, 5, 0])\n",
    "print(array)\n",
    "print(np.all(array != 0))   \n"
   ]
  },
  {
   "cell_type": "code",
   "execution_count": 0,
   "metadata": {
    "application/vnd.databricks.v1+cell": {
     "cellMetadata": {
      "byteLimit": 2048000,
      "rowLimit": 10000
     },
     "inputWidgets": {},
     "nuid": "a2e826fd-b423-44f7-a7c2-81cc60f5476d",
     "showTitle": false,
     "tableResultSettingsMap": {},
     "title": ""
    }
   },
   "outputs": [],
   "source": [
    "# Create a numpy array with the elements \"0, 0, 0, 0\", print the array and test if any of its elements is non-zero.\n",
    "import numpy as np\n",
    "\n",
    "array = np.array([0, 0, 0, 0])\n",
    "print(array)\n",
    "print(np.any(array != 0))   "
   ]
  },
  {
   "cell_type": "code",
   "execution_count": 0,
   "metadata": {
    "application/vnd.databricks.v1+cell": {
     "cellMetadata": {
      "byteLimit": 2048000,
      "rowLimit": 10000
     },
     "inputWidgets": {},
     "nuid": "5c94f1ef-7d0b-4356-961f-c52154a7bb86",
     "showTitle": false,
     "tableResultSettingsMap": {},
     "title": ""
    }
   },
   "outputs": [],
   "source": [
    "# Create a numpy array with the elements \"56, -2, 7\", print the array and the amount of memory required to store it.\n",
    "import numpy as np\n",
    "\n",
    "array = np.array([56, -2, 7])\n",
    "print(array)\n",
    "print(array.nbytes) "
   ]
  },
  {
   "cell_type": "code",
   "execution_count": 0,
   "metadata": {
    "application/vnd.databricks.v1+cell": {
     "cellMetadata": {
      "byteLimit": 2048000,
      "rowLimit": 10000
     },
     "inputWidgets": {},
     "nuid": "fb01ec5a-eebe-4f1a-b3ca-c54395236c1f",
     "showTitle": false,
     "tableResultSettingsMap": {},
     "title": ""
    }
   },
   "outputs": [],
   "source": [
    "#Create a numpy array with 10 zeros and print the array.\n",
    "import numpy as np\n",
    "\n",
    "array = np.zeros(10)\n",
    "print(array)    "
   ]
  },
  {
   "cell_type": "code",
   "execution_count": 0,
   "metadata": {
    "application/vnd.databricks.v1+cell": {
     "cellMetadata": {
      "byteLimit": 2048000,
      "rowLimit": 10000
     },
     "inputWidgets": {},
     "nuid": "49adeb87-e19b-44a1-a167-e112c068f31f",
     "showTitle": false,
     "tableResultSettingsMap": {},
     "title": ""
    }
   },
   "outputs": [],
   "source": [
    "#Create a numpy array with 6 ones and print the array.\n",
    "import numpy as np\n",
    "\n",
    "array = np.ones(6)  \n",
    "print(array)"
   ]
  },
  {
   "cell_type": "code",
   "execution_count": 0,
   "metadata": {
    "application/vnd.databricks.v1+cell": {
     "cellMetadata": {
      "byteLimit": 2048000,
      "rowLimit": 10000
     },
     "inputWidgets": {},
     "nuid": "415cef47-08d7-46ae-8f2a-5c133d05e369",
     "showTitle": false,
     "tableResultSettingsMap": {},
     "title": ""
    }
   },
   "outputs": [],
   "source": [
    "#Create a numpy array with 12 '3's and print the array. [3 3 3 3 3 3 3 3 3 3 3 3]\n",
    "import numpy as np\n",
    "\n",
    "array = np.full(12, 3)\n",
    "print(array)"
   ]
  },
  {
   "cell_type": "code",
   "execution_count": 0,
   "metadata": {
    "application/vnd.databricks.v1+cell": {
     "cellMetadata": {
      "byteLimit": 2048000,
      "rowLimit": 10000
     },
     "inputWidgets": {},
     "nuid": "b1be557c-7aa0-41d0-9a76-92c49b82a3e7",
     "showTitle": false,
     "tableResultSettingsMap": {},
     "title": ""
    }
   },
   "outputs": [],
   "source": [
    "#Create a numpy array of the integers from 8 to 20 and print the array. (make sure 20 itself is included)\n",
    "import numpy as np\n",
    "\n",
    "array = np.arange(8, 21)\n",
    "print(array)    "
   ]
  },
  {
   "cell_type": "code",
   "execution_count": 0,
   "metadata": {
    "application/vnd.databricks.v1+cell": {
     "cellMetadata": {
      "byteLimit": 2048000,
      "rowLimit": 10000
     },
     "inputWidgets": {},
     "nuid": "c5e6accf-247d-4a02-a156-9d3d33eb2d46",
     "showTitle": false,
     "tableResultSettingsMap": {},
     "title": ""
    }
   },
   "outputs": [],
   "source": [
    "# Problem 2\n",
    "\n",
    "egg_carton1 = np.array([\n",
    "  [0.89, 0.90, 0.83, 0.89, 0.97, 0.98], \n",
    "  [0.95, 0.95, 0.89, 0.95, 0.23, 0.99]\n",
    "])\n",
    "\n",
    "egg_carton2 = np.array([\n",
    "  [0.89, 0.95, 0.84, 0.92, 0.94, 0.93], \n",
    "  [0.93, 0.95, 0.02, 0.03, 0.23, 0.99]\n",
    "])\n",
    "\n",
    "egg_carton3 = np.array([\n",
    "  [0.83, 0.95, 0.89, 0.54, 0.37, 0.92], \n",
    "  [0.98, 0.99, 0.19, 0.23, 0.89, 0.91]\n",
    "])\n",
    "\n",
    "avg1 = np.average(egg_carton1)\n",
    "avg2 = np.average(egg_carton2)\n",
    "avg3 = np.average(egg_carton3)\n",
    "\n",
    "print(avg1, avg2, avg3)\n",
    "\n",
    "fresh = max(avg1, avg2, avg3)\n",
    "rotten = min(avg1, avg2, avg3)\n",
    "\n",
    "print(\" Fresh carton avg is :\", fresh)\n",
    "print(\" Rotten carton avg is :\", rotten)"
   ]
  },
  {
   "cell_type": "code",
   "execution_count": 0,
   "metadata": {
    "application/vnd.databricks.v1+cell": {
     "cellMetadata": {
      "byteLimit": 2048000,
      "rowLimit": 10000
     },
     "inputWidgets": {},
     "nuid": "519a70db-a4f4-470a-8f45-e400a0b595ef",
     "showTitle": false,
     "tableResultSettingsMap": {},
     "title": ""
    }
   },
   "outputs": [],
   "source": [
    "# Problem 3\n",
    "import numpy as np\n",
    "comet_years = np.arange(1986,3001,75)\n",
    "print(\"Halley's Comet will appear next from year 1986 to 3000\", comet_years)\n"
   ]
  },
  {
   "cell_type": "code",
   "execution_count": 0,
   "metadata": {
    "application/vnd.databricks.v1+cell": {
     "cellMetadata": {
      "byteLimit": 2048000,
      "rowLimit": 10000
     },
     "inputWidgets": {},
     "nuid": "549d882d-f201-4706-986b-19b04a2c3229",
     "showTitle": false,
     "tableResultSettingsMap": {},
     "title": ""
    }
   },
   "outputs": [],
   "source": [
    "# Problem 4\n",
    "import numpy as np\n",
    "import pandas as pd\n",
    "\n",
    "passengers = np.array([\n",
    " [1, 0, 3, 22],\n",
    " [2, 1, 1, 38],\n",
    " [3, 1, 3, 26],\n",
    " [4, 1, 1, 35],\n",
    " [5, 0, 3, 35],\n",
    " [6, 0, 3, 18],\n",
    " [7, 0, 1, 54],\n",
    " [8, 0, 3, 2],\n",
    " [9, 1, 3, 27],\n",
    "[10, 1, 2, 14],\n",
    "[11, 1, 3, 4],\n",
    "[12, 1, 1, 58],\n",
    "[13, 0, 3, 20],\n",
    "[14, 0, 3, 39],\n",
    "[15, 0, 3, 14],\n",
    "[16, 1, 2, 55],\n",
    "[17, 0, 3, 2],\n",
    "[18, 1, 2, 12],\n",
    "[19, 0, 3, 31],\n",
    "[20, 1, 3, 8],\n",
    "[21, 0, 2, 35],\n",
    "[22, 1, 2, 34],\n",
    "[23, 1, 3, 15],\n",
    "[24, 1, 1, 28],\n",
    "[25, 0, 3, 8],\n",
    "[26, 1, 3, 38],\n",
    "[27, 0, 3, 2],\n",
    "[28, 0, 1, 1],\n",
    "[29, 1, 3, 5],\n",
    "[30, 0, 3, 18],\n",
    "[31, 0, 1, 40],\n",
    "[32, 1, 1, 70],\n",
    "[33, 1, 3, 33],\n",
    "[34, 0, 2, 66],\n",
    "[35, 0, 1, 28],\n",
    "[36, 0, 1, 42],\n",
    "[37, 1, 3, 5],\n",
    "[38, 0, 3, 18],\n",
    "[39, 0, 3, 18],\n",
    "[40, 1, 3, 14],\n",
    "[41, 0, 3, 40],\n",
    "[42, 0, 2, 27],\n",
    "[43, 0, 3, 29],\n",
    "[44, 1, 2, 0],\n",
    "[45, 1, 3, 19],\n",
    "[46, 0, 3, 33],\n",
    "[47, 0, 3, 14],\n",
    "[48, 1, 3, 22],\n",
    "[49, 0, 3, 41],\n",
    "[50, 0, 3, 18]\n",
    "])\n",
    "\n",
    "df = pd.DataFrame(passengers, columns=['PassengerId', 'Survived', 'PassengerClass', 'Age'])\n",
    "print(df)\n",
    "\n",
    "print(\"Shape of array is: \", df.shape)\n",
    "print(\"Average Age of passengers is: \", df['Age'].mean())\n",
    "\n",
    "oldest = df.loc[df['Age'].idxmax()]\n",
    "youngest = df.loc[df['Age'].idxmin()]\n",
    "print(\"Oldest Passenger Id :\",oldest[\"PassengerId\"],\"Age :\" ,oldest['Age'])\n",
    "print(\"Youngest Passenger Id :\",youngest[\"PassengerId\"],\"Age :\" ,youngest['Age'])\n",
    "\n",
    "survived = (df[\"Survived\"].mean()) * 100\n",
    "print(\"Percentage of passengers survived :\",survived)\n",
    "\n",
    "survivedbyclass = df.groupby('PassengerClass')['Survived'].mean() * 100\n",
    "print(\"Percentage of passengers survived by class :\",survivedbyclass)\n"
   ]
  },
  {
   "cell_type": "code",
   "execution_count": 0,
   "metadata": {
    "application/vnd.databricks.v1+cell": {
     "cellMetadata": {
      "byteLimit": 2048000,
      "rowLimit": 10000
     },
     "inputWidgets": {},
     "nuid": "c75b490b-abdc-4853-b370-b1a598fb491b",
     "showTitle": false,
     "tableResultSettingsMap": {},
     "title": ""
    }
   },
   "outputs": [],
   "source": [
    "# Problem 5\n",
    "import numpy as np\n",
    "import pandas as pd\n",
    "contacts = pd.DataFrame({\n",
    "\n",
    "\"name \" :[\"Jack\",\"Lisa\",\"Ama\",\"Mark\",\"Harvey\",\"Rob\"],\n",
    " \"age \" :[25,30,15,45,6,65],\n",
    " \"phone_number\" :[\"1111-5425\",\"2222-5425\",\"3333-5425\",\"4444-5425\",\"5555-5425\",\"6666-5425\"],\n",
    " \"email\" :[\"jack@gmail.com\",\"lisa@gmail.com\",\"ama@gmail.com\",\"mark@gmail.com\",\"harvey@gmail.com\",\"rob@gmail.com\"],\n",
    " \"astrological_sign\" : [\"Taurus\",\"Pisces\",\"Gemini\",\"Cancer\",\"Capricorn\",\"Aquarius\"]\n",
    "\n",
    "})\n",
    "\n",
    "df = pd.DataFrame(contacts)\n",
    "print(df)"
   ]
  }
 ],
 "metadata": {
  "application/vnd.databricks.v1+notebook": {
   "computePreferences": null,
   "dashboards": [],
   "environmentMetadata": {
    "base_environment": "",
    "environment_version": "4"
   },
   "inputWidgetPreferences": null,
   "language": "python",
   "notebookMetadata": {
    "pythonIndentUnit": 4
   },
   "notebookName": "Assignment2 2025-10-15 19_38_05",
   "widgets": {}
  },
  "language_info": {
   "name": "python"
  }
 },
 "nbformat": 4,
 "nbformat_minor": 0
}

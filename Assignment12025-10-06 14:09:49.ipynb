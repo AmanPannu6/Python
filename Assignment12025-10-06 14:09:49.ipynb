{
 "cells": [
  {
   "cell_type": "code",
   "execution_count": 0,
   "metadata": {
    "application/vnd.databricks.v1+cell": {
     "cellMetadata": {
      "byteLimit": 2048000,
      "rowLimit": 10000
     },
     "inputWidgets": {},
     "nuid": "14fa1df2-54ef-4252-ba13-4ec4eb0c4ada",
     "showTitle": false,
     "tableResultSettingsMap": {},
     "title": ""
    }
   },
   "outputs": [],
   "source": [
    "# Problem 1 (ph_levels.py)\n",
    "\n",
    "ph = int(input(\"Enter a pH level between 0 and 14:\"))\n",
    "        \n",
    "if ph < 0 or ph > 14 :\n",
    "    print(\"Please Enter a pH level between 0 and 14\")\n",
    "elif ph > 7 :\n",
    "    print(\"Basic\")\n",
    "elif ph < 7:\n",
    "    print(\"Acidic\")\n",
    "else:\n",
    "    print(\"Neutral\")"
   ]
  },
  {
   "cell_type": "code",
   "execution_count": 0,
   "metadata": {
    "application/vnd.databricks.v1+cell": {
     "cellMetadata": {
      "byteLimit": 2048000,
      "rowLimit": 10000
     },
     "inputWidgets": {},
     "nuid": "ad2d2f93-d8bc-4c7e-ab83-fc4e1dc87980",
     "showTitle": false,
     "tableResultSettingsMap": {},
     "title": ""
    }
   },
   "outputs": [],
   "source": [
    "# Problem 2 (magic8.py)\n",
    "\n",
    "import random\n",
    "question = str(input(\"What is your question?\"))\n",
    "answer = \"\"\n",
    "random_number = random.randint(1, 9)\n",
    "# print(random_number) \n",
    "if random_number == 1:\n",
    "  answer = \"Yes - definitely\"\n",
    "elif random_number == 2:\n",
    "  answer = \"It is decidedly so\"\n",
    "elif random_number == 3:\n",
    " answer = \"Without a doubt\"\n",
    "elif random_number == 4:\n",
    " answer =\" Reply hazy, try again\"\n",
    "elif random_number == 5:\n",
    "  answer = \"Ask again later\"\n",
    "elif random_number == 6:\n",
    "  answer = \"Better not tell you now\"\n",
    "elif random_number == 7:\n",
    "  answer = \"My sources say no\"\n",
    "elif random_number == 8:\n",
    "  answer = \"Outlook not so good\"\n",
    "elif random_number == 9:\n",
    "  answer = \"Very doubtful\"\n",
    "else :\n",
    "  answer = \"Error\"\n",
    "\n",
    "print( \"Question :\", question)\n",
    "print(\"Magic 8-Ball's answer:\" , answer)"
   ]
  },
  {
   "cell_type": "code",
   "execution_count": 0,
   "metadata": {
    "application/vnd.databricks.v1+cell": {
     "cellMetadata": {
      "byteLimit": 2048000,
      "rowLimit": 10000
     },
     "inputWidgets": {},
     "nuid": "dec71bff-6e83-4df7-8bcb-9db92da62c7c",
     "showTitle": false,
     "tableResultSettingsMap": {},
     "title": ""
    }
   },
   "outputs": [],
   "source": [
    "# Question 3 (the_cyclone.py) \n",
    "\n",
    "height = int(input(\"What is your height?\"))\n",
    "credits = int(input(\"How many credits do you have?\"))\n",
    "if height >= 137 and credits >= 10:\n",
    "  print(\"Enjoy the ride!\")\n",
    "elif height < 137 and credits >= 10:\n",
    "    print(\"You are not tall enough to ride.\")\n",
    "elif height >= 137 and credits < 10:\n",
    "    print(\"You don't have enough credits.\")\n",
    "else:\n",
    "    print(\"You have not met either requirement.\")\n",
    "\n"
   ]
  },
  {
   "cell_type": "code",
   "execution_count": 0,
   "metadata": {
    "application/vnd.databricks.v1+cell": {
     "cellMetadata": {
      "byteLimit": 2048000,
      "rowLimit": 10000
     },
     "inputWidgets": {},
     "nuid": "1de83155-878d-49fd-aaf2-3699b9c52ba8",
     "showTitle": false,
     "tableResultSettingsMap": {},
     "title": ""
    }
   },
   "outputs": [],
   "source": [
    "#Question 4 (sorting_hat.py)\n",
    "\n",
    "Gryffindor = 0\n",
    "Ravenclaw  = 0\n",
    "Hufflepuff = 0\n",
    "Slytherin = 0\n",
    "\n",
    "answer = int(input(\"Do you like Dawn or Dusk : \\n 1) Dawn 2) Dusk\"))\n",
    "if answer == 1:\n",
    "  Gryffindor += 1\n",
    "  Ravenclaw += 1\n",
    "elif answer == 2:\n",
    "  Hufflepuff += 1\n",
    "  Slytherin += 1\n",
    "else:\n",
    "  print(\"Wrong input.\") \n",
    "\n",
    "answer = int(input(\"When I'm dead, I want people to remember me as : \\n 1) The Good 2) The Great 3) The Wise 4) The Bold\"))\n",
    "if answer == 1:\n",
    "  Hufflepuff += 2\n",
    "elif answer == 2:  \n",
    "  Slytherin += 2\n",
    "elif answer == 3:\n",
    "    Ravenclaw += 2\n",
    "elif answer == 4:\n",
    "    Gryffindor += 2\n",
    "else:\n",
    "  print(\"Wrong input.\") \n",
    "\n",
    "\n",
    "answer = int(input(\"Which kind of instrument most pleases your ear? \\n 1) The violin 2) The trumpet 3) The piano 4) The drum\"))\n",
    "if answer == 1:\n",
    "  Slytherin += 4\n",
    "elif answer == 2:\n",
    "    Hufflepuff += 4\n",
    "elif answer == 3:\n",
    "    Ravenclaw += 4\n",
    "elif answer == 4:\n",
    "    Gryffindor += 4\n",
    "else :\n",
    "    print(\"Wrong input.\") \n",
    "\n",
    "print(\"Gryffindor: \", Gryffindor) \n",
    "print(\"Ravenclaw: \", Ravenclaw) \n",
    "print(\"Hufflepuff: \", Hufflepuff) \n",
    "print(\"Slytherin: \", Slytherin)        \n",
    "\n"
   ]
  },
  {
   "cell_type": "code",
   "execution_count": 0,
   "metadata": {
    "application/vnd.databricks.v1+cell": {
     "cellMetadata": {},
     "inputWidgets": {},
     "nuid": "aa64076b-3c65-498b-827e-ff361f4eb6a2",
     "showTitle": false,
     "tableResultSettingsMap": {},
     "title": ""
    }
   },
   "outputs": [],
   "source": []
  },
  {
   "cell_type": "code",
   "execution_count": 0,
   "metadata": {
    "application/vnd.databricks.v1+cell": {
     "cellMetadata": {},
     "inputWidgets": {},
     "nuid": "83103c56-b1c9-4185-9a66-9841a7eb9aed",
     "showTitle": false,
     "tableResultSettingsMap": {},
     "title": ""
    }
   },
   "outputs": [],
   "source": [
    "# Problem 5(fizz_buzz.py)\n"
   ]
  }
 ],
 "metadata": {
  "application/vnd.databricks.v1+notebook": {
   "computePreferences": null,
   "dashboards": [],
   "environmentMetadata": {
    "base_environment": "",
    "environment_version": "3"
   },
   "inputWidgetPreferences": null,
   "language": "python",
   "notebookMetadata": {
    "pythonIndentUnit": 4
   },
   "notebookName": "Assignment12025-10-06 14:09:49",
   "widgets": {}
  },
  "language_info": {
   "name": "python"
  }
 },
 "nbformat": 4,
 "nbformat_minor": 0
}

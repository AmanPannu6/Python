{
 "cells": [
  {
   "cell_type": "code",
   "execution_count": 0,
   "metadata": {
    "application/vnd.databricks.v1+cell": {
     "cellMetadata": {
      "byteLimit": 2048000,
      "rowLimit": 10000
     },
     "inputWidgets": {},
     "nuid": "14fa1df2-54ef-4252-ba13-4ec4eb0c4ada",
     "showTitle": false,
     "tableResultSettingsMap": {},
     "title": ""
    }
   },
   "outputs": [],
   "source": [
    "# Problem 1 (ph_levels.py)\n",
    "\n",
    "ph = int(input(\"Enter a pH level between 0 and 14:\"))\n",
    "        \n",
    "if ph < 0 or ph > 14 :\n",
    "    print(\"Please Enter a pH level between 0 and 14\")\n",
    "elif ph > 7 :\n",
    "    print(\"Basic\")\n",
    "elif ph < 7:\n",
    "    print(\"Acidic\")\n",
    "else:\n",
    "    print(\"Neutral\")"
   ]
  },
  {
   "cell_type": "code",
   "execution_count": 0,
   "metadata": {
    "application/vnd.databricks.v1+cell": {
     "cellMetadata": {
      "byteLimit": 2048000,
      "rowLimit": 10000
     },
     "inputWidgets": {},
     "nuid": "ad2d2f93-d8bc-4c7e-ab83-fc4e1dc87980",
     "showTitle": false,
     "tableResultSettingsMap": {},
     "title": ""
    }
   },
   "outputs": [],
   "source": [
    "# Problem 2 (magic8.py)\n",
    "\n",
    "import random\n",
    "question = str(input(\"What is your question?\"))\n",
    "answer = \"\"\n",
    "random_number = random.randint(1, 9)\n",
    "# print(random_number) \n",
    "if random_number == 1:\n",
    "  answer = \"Yes - definitely\"\n",
    "elif random_number == 2:\n",
    "  answer = \"It is decidedly so\"\n",
    "elif random_number == 3:\n",
    " answer = \"Without a doubt\"\n",
    "elif random_number == 4:\n",
    " answer =\" Reply hazy, try again\"\n",
    "elif random_number == 5:\n",
    "  answer = \"Ask again later\"\n",
    "elif random_number == 6:\n",
    "  answer = \"Better not tell you now\"\n",
    "elif random_number == 7:\n",
    "  answer = \"My sources say no\"\n",
    "elif random_number == 8:\n",
    "  answer = \"Outlook not so good\"\n",
    "elif random_number == 9:\n",
    "  answer = \"Very doubtful\"\n",
    "else :\n",
    "  answer = \"Error\"\n",
    "\n",
    "print( \"Question :\", question)\n",
    "print(\"Magic 8-Ball's answer:\" , answer)"
   ]
  },
  {
   "cell_type": "code",
   "execution_count": 0,
   "metadata": {
    "application/vnd.databricks.v1+cell": {
     "cellMetadata": {
      "byteLimit": 2048000,
      "rowLimit": 10000
     },
     "inputWidgets": {},
     "nuid": "dec71bff-6e83-4df7-8bcb-9db92da62c7c",
     "showTitle": false,
     "tableResultSettingsMap": {},
     "title": ""
    }
   },
   "outputs": [],
   "source": [
    "# Question 3 (the_cyclone.py) \n",
    "\n",
    "height = int(input(\"What is your height?\"))\n",
    "credits = int(input(\"How many credits do you have?\"))\n",
    "if height >= 137 and credits >= 10:\n",
    "  print(\"Enjoy the ride!\")\n",
    "elif height < 137 and credits >= 10:\n",
    "    print(\"You are not tall enough to ride.\")\n",
    "elif height >= 137 and credits < 10:\n",
    "    print(\"You don't have enough credits.\")\n",
    "else:\n",
    "    print(\"You have not met either requirement.\")\n",
    "\n"
   ]
  },
  {
   "cell_type": "code",
   "execution_count": 0,
   "metadata": {
    "application/vnd.databricks.v1+cell": {
     "cellMetadata": {
      "byteLimit": 2048000,
      "rowLimit": 10000
     },
     "inputWidgets": {},
     "nuid": "1de83155-878d-49fd-aaf2-3699b9c52ba8",
     "showTitle": false,
     "tableResultSettingsMap": {},
     "title": ""
    }
   },
   "outputs": [],
   "source": [
    "#Question 4 (sorting_hat.py)\n",
    "\n",
    "Gryffindor = 0\n",
    "Ravenclaw  = 0\n",
    "Hufflepuff = 0\n",
    "Slytherin = 0\n",
    "\n",
    "answer = int(input(\"Do you like Dawn or Dusk : \\n 1) Dawn 2) Dusk\"))\n",
    "if answer == 1:\n",
    "  Gryffindor += 1\n",
    "  Ravenclaw += 1\n",
    "elif answer == 2:\n",
    "  Hufflepuff += 1\n",
    "  Slytherin += 1\n",
    "else:\n",
    "  print(\"Wrong input.\") \n",
    "\n",
    "answer = int(input(\"When I'm dead, I want people to remember me as : \\n 1) The Good 2) The Great 3) The Wise 4) The Bold\"))\n",
    "if answer == 1:\n",
    "  Hufflepuff += 2\n",
    "elif answer == 2:  \n",
    "  Slytherin += 2\n",
    "elif answer == 3:\n",
    "    Ravenclaw += 2\n",
    "elif answer == 4:\n",
    "    Gryffindor += 2\n",
    "else:\n",
    "  print(\"Wrong input.\") \n",
    "\n",
    "\n",
    "answer = int(input(\"Which kind of instrument most pleases your ear? \\n 1) The violin 2) The trumpet 3) The piano 4) The drum\"))\n",
    "if answer == 1:\n",
    "  Slytherin += 4\n",
    "elif answer == 2:\n",
    "    Hufflepuff += 4\n",
    "elif answer == 3:\n",
    "    Ravenclaw += 4\n",
    "elif answer == 4:\n",
    "    Gryffindor += 4\n",
    "else :\n",
    "    print(\"Wrong input.\") \n",
    "\n",
    "print(\"Gryffindor: \", Gryffindor) \n",
    "print(\"Ravenclaw: \", Ravenclaw) \n",
    "print(\"Hufflepuff: \", Hufflepuff) \n",
    "print(\"Slytherin: \", Slytherin)        \n",
    "\n"
   ]
  },
  {
   "cell_type": "code",
   "execution_count": 0,
   "metadata": {
    "application/vnd.databricks.v1+cell": {
     "cellMetadata": {
      "byteLimit": 2048000,
      "rowLimit": 10000
     },
     "inputWidgets": {},
     "nuid": "83103c56-b1c9-4185-9a66-9841a7eb9aed",
     "showTitle": false,
     "tableResultSettingsMap": {},
     "title": ""
    }
   },
   "outputs": [],
   "source": [
    "# Problem 5(fizz_buzz.py)\n",
    "for i in range(1,101):\n",
    "  if i % 3 == 0 and i % 5 == 0:\n",
    "    print(\"Fizz Buzz\")\n",
    "  elif i % 5 == 0:\n",
    "    print(\"Buzz\")\n",
    "  elif  i % 3 == 0:\n",
    "    print(\"Fizz\")\n",
    "  else:\n",
    "    print(i)"
   ]
  },
  {
   "cell_type": "code",
   "execution_count": 0,
   "metadata": {
    "application/vnd.databricks.v1+cell": {
     "cellMetadata": {
      "byteLimit": 2048000,
      "rowLimit": 10000
     },
     "inputWidgets": {},
     "nuid": "6a88f562-1151-4c8b-b1f6-1e082604590c",
     "showTitle": false,
     "tableResultSettingsMap": {},
     "title": ""
    }
   },
   "outputs": [],
   "source": [
    "#problem 6(square_sum.py)\n",
    "\n",
    "number = int(input(\"Enter an integer: \"))\n",
    "total = 0\n",
    "for i in range(1,number+1):\n",
    "  total += i ** 2\n",
    "print(total)"
   ]
  },
  {
   "cell_type": "code",
   "execution_count": 0,
   "metadata": {
    "application/vnd.databricks.v1+cell": {
     "cellMetadata": {
      "byteLimit": 2048000,
      "rowLimit": 10000
     },
     "inputWidgets": {},
     "nuid": "857843d5-20f8-434f-8670-99752e362f3b",
     "showTitle": false,
     "tableResultSettingsMap": {},
     "title": ""
    }
   },
   "outputs": [],
   "source": [
    "#problem 7(reading_list.py)\n",
    "books = [\"Harry Potter\" , \"1984\" ,\"The Fault in Our stars\", \"The Mom Test\" ,\"Life in code\"]\n",
    "print(books)\n",
    "books.append(\"Pachinko\")\n",
    "print(books)\n",
    "books.remove(\"1984\")\n",
    "print(books)\n"
   ]
  },
  {
   "cell_type": "code",
   "execution_count": 0,
   "metadata": {
    "application/vnd.databricks.v1+cell": {
     "cellMetadata": {
      "byteLimit": 2048000,
      "rowLimit": 10000
     },
     "inputWidgets": {},
     "nuid": "23f84e12-0faf-404b-9b9d-5d32f8737534",
     "showTitle": false,
     "tableResultSettingsMap": {},
     "title": ""
    }
   },
   "outputs": [],
   "source": [
    "# problem 8(dna.py)\n",
    "dna_sequence = [\"GCT\",\"AGC\",\"AGG\",\"TAA\",\"ACT\",\"CAT\",\"TAT\",\"CCC\",\"ACG\",\"GAA\",\"ACC\",\"GGA\"]\n",
    "item_to_found =str(input(\"Enter the string :\"))\n",
    "item_found = False\n",
    "for i in dna_sequence:\n",
    "  if i == item_to_found:\n",
    "    item_found = True\n",
    "\n",
    "if item_found == True:\n",
    "  print(\"Item Found\")\n",
    "else:\n",
    "  print(\"Item not Found\")"
   ]
  },
  {
   "cell_type": "code",
   "execution_count": 0,
   "metadata": {
    "application/vnd.databricks.v1+cell": {
     "cellMetadata": {
      "byteLimit": 2048000,
      "rowLimit": 10000
     },
     "inputWidgets": {},
     "nuid": "ea462cd3-00e1-4db2-8378-6f95563c771d",
     "showTitle": false,
     "tableResultSettingsMap": {},
     "title": ""
    }
   },
   "outputs": [],
   "source": [
    "# PROBLEM 9 (fortune-cookie.py)\n",
    "import random\n",
    "def fortune():\n",
    "  number = random.randint(1,7)\n",
    "  print(number)\n",
    "  if number == 1:\n",
    "      print(\"Don't purse happiness - create it\")\n",
    "  elif number == 2:\n",
    "      print(\"All things are Difficult before they are easy\")\n",
    "  elif number == 3:\n",
    "      print(\"The Early bird gets the worm,but the second mouse gets the cheese\")\n",
    "  elif number == 4:\n",
    "      print(\"Someone in your life needs a letter from you\")\n",
    "  elif number == 5:\n",
    "      print(\"Don't just think.Act! Your heart will skip the beat\")\n",
    "  elif number == 6:\n",
    "      print(\"The fortune you search for is in another cookie\")\n",
    "  elif number == 7:\n",
    "      print(\"Help! I'm being held prisoner in chinese bakery!\")\n",
    "  else:\n",
    "      print(\"Better luck next time\")\n",
    "\n",
    "fortune()\n"
   ]
  },
  {
   "cell_type": "code",
   "execution_count": 0,
   "metadata": {
    "application/vnd.databricks.v1+cell": {
     "cellMetadata": {
      "byteLimit": 2048000,
      "rowLimit": 10000
     },
     "inputWidgets": {},
     "nuid": "84f9418d-9064-462e-996f-96c4582f41aa",
     "showTitle": false,
     "tableResultSettingsMap": {},
     "title": ""
    }
   },
   "outputs": [],
   "source": [
    "# PROBLEM 10 (rocket.py)\n",
    "miles = 0\n",
    "def distance(kilometer):\n",
    "  miles = kilometer / 1.609\n",
    "  print(\"distance in Miles :\" , miles)\n",
    "\n",
    "kilometer = 10000\n",
    "distance(kilometer)\n"
   ]
  },
  {
   "cell_type": "code",
   "execution_count": 0,
   "metadata": {
    "application/vnd.databricks.v1+cell": {
     "cellMetadata": {
      "byteLimit": 2048000,
      "rowLimit": 10000
     },
     "inputWidgets": {},
     "nuid": "d8268aaf-2f34-4ed9-92db-9101ba7ddc4a",
     "showTitle": false,
     "tableResultSettingsMap": {},
     "title": ""
    }
   },
   "outputs": [],
   "source": [
    "#PROBLEM 11(calculator.py)\n",
    "def add(a,b):\n",
    "  sum = a + b\n",
    "  print(\"sum is :\" ,sum)\n",
    "def subtract(a,b):\n",
    "  difference = a - b\n",
    "  print(\"Difference is :\" ,difference)\n",
    "def multiply(a,b):\n",
    "  multi = a * b\n",
    "  print(\"Multiplication is :\" ,multi)\n",
    "\n",
    "def divide(a,b):\n",
    "  div = a/b\n",
    "  print(\"Value is :\" ,div)\n",
    "def exp(a,b):\n",
    "  expo = a ** b\n",
    "  print(\"Exponet is :\" ,expo)\n",
    "\n",
    "num1 = int(input(\"Enter First Number : \"))\n",
    "num2 = int(input(\"Enter Second Number : \"))\n",
    "choice = int(input(\"which action you want to perform : \\n 1)addition 2)subtraction 3)multiplication 4)Divide 5)Exponet/Power\"))\n",
    "\n",
    "if choice == 1:\n",
    "  add(num1,num2)\n",
    "elif choice == 2:\n",
    "  subtract(num1,num2)\n",
    "elif choice == 3:\n",
    "  multiply(num1,num2)\n",
    "elif choice == 4:\n",
    "  divide(num1,num2)\n",
    "elif choice == 5:\n",
    "  exp(num1,num2)\n",
    "else:\n",
    " print(\"Please Enter Valid Option\")"
   ]
  },
  {
   "cell_type": "code",
   "execution_count": 0,
   "metadata": {
    "application/vnd.databricks.v1+cell": {
     "cellMetadata": {
      "byteLimit": 2048000,
      "rowLimit": 10000
     },
     "inputWidgets": {},
     "nuid": "70905b85-6e03-4309-bf84-2e45bb6b1035",
     "showTitle": false,
     "tableResultSettingsMap": {},
     "title": ""
    }
   },
   "outputs": [],
   "source": [
    "# problem 12(stock_analysis.py)\n",
    "stock_prices = [34.68,36.09,34.94,33.97,34.68,35.82,43.41,44.29,44.65,53.56,49.85,48.71,48.71,49.94,48.53,47.03,46.59,48.62,44.21,47.21]\n",
    "\n",
    "def price_at(x):\n",
    "  if x >= 1 and x <=len(stock_prices):\n",
    "    return(stock_prices[x - 1])\n",
    "  else:\n",
    "    print(\"Invalid Choice\")\n",
    " \n",
    "def max_price(a,b):\n",
    "  return max(stock_prices[a - 1:b])\n",
    "\n",
    "def min_price(a,b):\n",
    "  return min((stock_prices[a - 1:b]))\n",
    "\n",
    "print(price_at(19))\n",
    "print(max_price(1,20))\n",
    "print(min_price(1,20))\n",
    " "
   ]
  },
  {
   "cell_type": "code",
   "execution_count": 0,
   "metadata": {
    "application/vnd.databricks.v1+cell": {
     "cellMetadata": {
      "byteLimit": 2048000,
      "rowLimit": 10000
     },
     "inputWidgets": {},
     "nuid": "2171b628-fae9-49d7-b7b5-ad917d39aa41",
     "showTitle": false,
     "tableResultSettingsMap": {},
     "title": ""
    }
   },
   "outputs": [],
   "source": [
    "# PRoblem 13 drive_thru.py\n",
    "def get_item(num):\n",
    "  if num == 1:\n",
    "    return \"Cheeseburger\"\n",
    "  elif num == 2:\n",
    "    return \"Fries\"\n",
    "  elif num == 3:\n",
    "    return \"Soda\"\n",
    "  elif num == 4:\n",
    "    return \"Ice Cream\"\n",
    "  elif num == 5:\n",
    "    return \"Cookies\"\n",
    "  else:\n",
    "    return \"Invalid Option\"\n",
    "  \n",
    "def welcome():\n",
    "    print(\"Welcome to Harvey's Drive-Thru!\")\n",
    "    print(\"Menu :\")\n",
    "    print(\"1. Cheeseburger\")\n",
    "    print(\"2. Fries\")\n",
    "    print(\"3. Soda\")\n",
    "    print(\"4. Ice Cream\")\n",
    "    print(\"5. Cookies\")\n",
    "  \n",
    "welcome()\n",
    "num = int(input(\"Enter Item Number :\"))\n",
    "print(\"You ordered :\" ,get_item(num))"
   ]
  }
 ],
 "metadata": {
  "application/vnd.databricks.v1+notebook": {
   "computePreferences": null,
   "dashboards": [],
   "environmentMetadata": {
    "base_environment": "",
    "environment_version": "3"
   },
   "inputWidgetPreferences": null,
   "language": "python",
   "notebookMetadata": {
    "pythonIndentUnit": 4
   },
   "notebookName": "Assignment12025-10-06 14:09:49",
   "widgets": {}
  },
  "language_info": {
   "name": "python"
  }
 },
 "nbformat": 4,
 "nbformat_minor": 0
}
